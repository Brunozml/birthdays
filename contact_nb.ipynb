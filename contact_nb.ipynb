{
 "cells": [
  {
   "cell_type": "markdown",
   "id": "21da7e65",
   "metadata": {},
   "source": [
    "# The FDR contact list\n",
    "\n",
    "\n"
   ]
  },
  {
   "cell_type": "markdown",
   "id": "d96a0ebc",
   "metadata": {},
   "source": [
    "## 0. set-up. necessary files"
   ]
  },
  {
   "cell_type": "code",
   "execution_count": 66,
   "id": "40611845",
   "metadata": {},
   "outputs": [],
   "source": [
    "import pandas as pd\n",
    "from datetime import datetime"
   ]
  },
  {
   "cell_type": "code",
   "execution_count": null,
   "id": "512bda53",
   "metadata": {},
   "outputs": [],
   "source": [
    "# Specify the path to your Excel file\n",
    "file_path = \"data/fake_contact_list.xls\"\n",
    "# Use the read_excel function to read the Excel file into a DataFrame\n",
    "df = pd.read_excel(file_path); df\n"
   ]
  },
  {
   "cell_type": "code",
   "execution_count": 90,
   "id": "24d07272",
   "metadata": {},
   "outputs": [
    {
     "data": {
      "text/html": [
       "<div>\n",
       "<style scoped>\n",
       "    .dataframe tbody tr th:only-of-type {\n",
       "        vertical-align: middle;\n",
       "    }\n",
       "\n",
       "    .dataframe tbody tr th {\n",
       "        vertical-align: top;\n",
       "    }\n",
       "\n",
       "    .dataframe thead th {\n",
       "        text-align: right;\n",
       "    }\n",
       "</style>\n",
       "<table border=\"1\" class=\"dataframe\">\n",
       "  <thead>\n",
       "    <tr style=\"text-align: right;\">\n",
       "      <th></th>\n",
       "      <th>month</th>\n",
       "      <th>day</th>\n",
       "      <th>year</th>\n",
       "    </tr>\n",
       "  </thead>\n",
       "  <tbody>\n",
       "    <tr>\n",
       "      <th>0</th>\n",
       "      <td>NaN</td>\n",
       "      <td>NaN</td>\n",
       "      <td>2000</td>\n",
       "    </tr>\n",
       "    <tr>\n",
       "      <th>1</th>\n",
       "      <td>NaN</td>\n",
       "      <td>NaN</td>\n",
       "      <td>2000</td>\n",
       "    </tr>\n",
       "    <tr>\n",
       "      <th>2</th>\n",
       "      <td>NaN</td>\n",
       "      <td>NaN</td>\n",
       "      <td>2000</td>\n",
       "    </tr>\n",
       "    <tr>\n",
       "      <th>3</th>\n",
       "      <td>NaN</td>\n",
       "      <td>NaN</td>\n",
       "      <td>2000</td>\n",
       "    </tr>\n",
       "    <tr>\n",
       "      <th>4</th>\n",
       "      <td>NaN</td>\n",
       "      <td>NaN</td>\n",
       "      <td>2000</td>\n",
       "    </tr>\n",
       "    <tr>\n",
       "      <th>5</th>\n",
       "      <td>09</td>\n",
       "      <td>05</td>\n",
       "      <td>2000</td>\n",
       "    </tr>\n",
       "    <tr>\n",
       "      <th>6</th>\n",
       "      <td>09</td>\n",
       "      <td>11</td>\n",
       "      <td>2000</td>\n",
       "    </tr>\n",
       "    <tr>\n",
       "      <th>7</th>\n",
       "      <td>06</td>\n",
       "      <td>02</td>\n",
       "      <td>2000</td>\n",
       "    </tr>\n",
       "    <tr>\n",
       "      <th>8</th>\n",
       "      <td>09</td>\n",
       "      <td>20</td>\n",
       "      <td>2000</td>\n",
       "    </tr>\n",
       "    <tr>\n",
       "      <th>9</th>\n",
       "      <td>10</td>\n",
       "      <td>19</td>\n",
       "      <td>2000</td>\n",
       "    </tr>\n",
       "    <tr>\n",
       "      <th>10</th>\n",
       "      <td>09</td>\n",
       "      <td>22</td>\n",
       "      <td>2000</td>\n",
       "    </tr>\n",
       "    <tr>\n",
       "      <th>11</th>\n",
       "      <td>07</td>\n",
       "      <td>08</td>\n",
       "      <td>2000</td>\n",
       "    </tr>\n",
       "    <tr>\n",
       "      <th>12</th>\n",
       "      <td>NaN</td>\n",
       "      <td>NaN</td>\n",
       "      <td>2000</td>\n",
       "    </tr>\n",
       "  </tbody>\n",
       "</table>\n",
       "</div>"
      ],
      "text/plain": [
       "   month  day  year\n",
       "0    NaN  NaN  2000\n",
       "1    NaN  NaN  2000\n",
       "2    NaN  NaN  2000\n",
       "3    NaN  NaN  2000\n",
       "4    NaN  NaN  2000\n",
       "5     09   05  2000\n",
       "6     09   11  2000\n",
       "7     06   02  2000\n",
       "8     09   20  2000\n",
       "9     10   19  2000\n",
       "10    09   22  2000\n",
       "11    07   08  2000\n",
       "12   NaN  NaN  2000"
      ]
     },
     "execution_count": 90,
     "metadata": {},
     "output_type": "execute_result"
    }
   ],
   "source": [
    "# Extract the month, day, and year\n",
    "df['month'] = df['Birthday'].str[:2]\n",
    "df['day'] = df['Birthday'].str[2:4]\n",
    "df['year'] = '2000'\n",
    "\n",
    "# Create a new DataFrame with the extracted columns\n",
    "new_df = df[['month', 'day', 'year']]; new_df"
   ]
  },
  {
   "cell_type": "code",
   "execution_count": 91,
   "id": "abf3c393",
   "metadata": {},
   "outputs": [],
   "source": [
    "#bdays = pd.to_datetime(df[\"Birthday\"])\n",
    "bdays = pd.to_datetime(new_df, errors = 'coerce')"
   ]
  },
  {
   "cell_type": "markdown",
   "id": "4dc0c3a1",
   "metadata": {},
   "source": [
    "Now, we're comparing the gathered dates with the current dates to get all birthdays during the same month."
   ]
  },
  {
   "cell_type": "code",
   "execution_count": 92,
   "id": "06dbd8de",
   "metadata": {},
   "outputs": [],
   "source": [
    "# Get the current month and year\n",
    "current_date = datetime.now()\n",
    "current_month = current_date.month\n",
    "current_year = current_date.year"
   ]
  },
  {
   "cell_type": "code",
   "execution_count": 93,
   "id": "c76c39d7",
   "metadata": {},
   "outputs": [
    {
     "data": {
      "text/plain": [
       "0           NaT\n",
       "1           NaT\n",
       "2           NaT\n",
       "3           NaT\n",
       "4           NaT\n",
       "5    2000-09-05\n",
       "6    2000-09-11\n",
       "7    2000-06-02\n",
       "8    2000-09-20\n",
       "9    2000-10-19\n",
       "10   2000-09-22\n",
       "11   2000-07-08\n",
       "12          NaT\n",
       "dtype: datetime64[ns]"
      ]
     },
     "execution_count": 93,
     "metadata": {},
     "output_type": "execute_result"
    }
   ],
   "source": [
    "bdays"
   ]
  },
  {
   "cell_type": "code",
   "execution_count": null,
   "id": "bdf1bb95",
   "metadata": {},
   "outputs": [],
   "source": [
    "\n",
    "# Filter the DataFrame to get rows with the same month as the present time\n",
    "same_month_rows = df[bdays.dt.month == current_month]; same_month_rows"
   ]
  },
  {
   "cell_type": "code",
   "execution_count": 107,
   "id": "e51d2382",
   "metadata": {},
   "outputs": [],
   "source": [
    "names_str = ', '.join( list(same_month_rows[\"First Name\"]) )\n",
    "month_data = same_month_rows[[\"First Name\", \"Last Name\", \"day\", \"month\"]]"
   ]
  },
  {
   "cell_type": "code",
   "execution_count": 106,
   "id": "e2c5ea06",
   "metadata": {},
   "outputs": [
    {
     "data": {
      "text/html": [
       "<div>\n",
       "<style scoped>\n",
       "    .dataframe tbody tr th:only-of-type {\n",
       "        vertical-align: middle;\n",
       "    }\n",
       "\n",
       "    .dataframe tbody tr th {\n",
       "        vertical-align: top;\n",
       "    }\n",
       "\n",
       "    .dataframe thead th {\n",
       "        text-align: right;\n",
       "    }\n",
       "</style>\n",
       "<table border=\"1\" class=\"dataframe\">\n",
       "  <thead>\n",
       "    <tr style=\"text-align: right;\">\n",
       "      <th></th>\n",
       "      <th>First Name</th>\n",
       "      <th>Last Name</th>\n",
       "      <th>day</th>\n",
       "      <th>month</th>\n",
       "    </tr>\n",
       "  </thead>\n",
       "  <tbody>\n",
       "    <tr>\n",
       "      <th>5</th>\n",
       "      <td>Pablo</td>\n",
       "      <td>Zorrilla</td>\n",
       "      <td>05</td>\n",
       "      <td>09</td>\n",
       "    </tr>\n",
       "    <tr>\n",
       "      <th>6</th>\n",
       "      <td>Hugo</td>\n",
       "      <td>NaN</td>\n",
       "      <td>11</td>\n",
       "      <td>09</td>\n",
       "    </tr>\n",
       "    <tr>\n",
       "      <th>8</th>\n",
       "      <td>Diego</td>\n",
       "      <td>Felgueres</td>\n",
       "      <td>20</td>\n",
       "      <td>09</td>\n",
       "    </tr>\n",
       "    <tr>\n",
       "      <th>10</th>\n",
       "      <td>Ana Beatriz</td>\n",
       "      <td>Souza</td>\n",
       "      <td>22</td>\n",
       "      <td>09</td>\n",
       "    </tr>\n",
       "  </tbody>\n",
       "</table>\n",
       "</div>"
      ],
      "text/plain": [
       "     First Name  Last Name day month\n",
       "5         Pablo   Zorrilla  05    09\n",
       "6          Hugo        NaN  11    09\n",
       "8         Diego  Felgueres  20    09\n",
       "10  Ana Beatriz      Souza  22    09"
      ]
     },
     "execution_count": 106,
     "metadata": {},
     "output_type": "execute_result"
    }
   ],
   "source": [
    "month_data"
   ]
  },
  {
   "cell_type": "code",
   "execution_count": null,
   "id": "e96eeb65",
   "metadata": {},
   "outputs": [],
   "source": [
    "names_str"
   ]
  }
 ],
 "metadata": {
  "kernelspec": {
   "display_name": "Python 3 (ipykernel)",
   "language": "python",
   "name": "python3"
  },
  "language_info": {
   "codemirror_mode": {
    "name": "ipython",
    "version": 3
   },
   "file_extension": ".py",
   "mimetype": "text/x-python",
   "name": "python",
   "nbconvert_exporter": "python",
   "pygments_lexer": "ipython3",
   "version": "3.10.6"
  }
 },
 "nbformat": 4,
 "nbformat_minor": 5
}
